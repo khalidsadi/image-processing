{
  "nbformat": 4,
  "nbformat_minor": 0,
  "metadata": {
    "colab": {
      "provenance": [],
      "include_colab_link": true
    },
    "kernelspec": {
      "name": "python3",
      "display_name": "Python 3"
    },
    "language_info": {
      "name": "python"
    }
  },
  "cells": [
    {
      "cell_type": "markdown",
      "metadata": {
        "id": "view-in-github",
        "colab_type": "text"
      },
      "source": [
        "<a href=\"https://colab.research.google.com/github/khalidsadi/image-processing/blob/main/k_s_Lab_Assignment_2.ipynb\" target=\"_parent\"><img src=\"https://colab.research.google.com/assets/colab-badge.svg\" alt=\"Open In Colab\"/></a>"
      ]
    },
    {
      "cell_type": "markdown",
      "metadata": {
        "nbgrader": {
          "grade": false,
          "grade_id": "cell-c5d566a3b1e86c18",
          "locked": true,
          "schema_version": 3,
          "solution": false,
          "task": false
        },
        "id": "M25RSV4i_hfm"
      },
      "source": [
        "# Necessary library import"
      ]
    },
    {
      "cell_type": "code",
      "source": [
        "#Import Necessary Libary That You Require\n",
        "#Write here\n"
      ],
      "metadata": {
        "id": "iGDsgZzZS-Gr"
      },
      "execution_count": null,
      "outputs": []
    },
    {
      "cell_type": "markdown",
      "metadata": {
        "nbgrader": {
          "grade": false,
          "grade_id": "cell-638395480558243f",
          "locked": true,
          "schema_version": 3,
          "solution": false,
          "task": false
        },
        "id": "gsQcXwXd_hfn"
      },
      "source": [
        "# Task 1 - Basic Image Operation"
      ]
    },
    {
      "cell_type": "markdown",
      "metadata": {
        "nbgrader": {
          "grade": false,
          "grade_id": "cell-7bf101f59e57321e",
          "locked": true,
          "schema_version": 3,
          "solution": false,
          "task": false
        },
        "id": "jPouCOcs_hfn"
      },
      "source": [
        "import your image or any photo taken by you or from internet (`sample.jpeg`) as a numpy array, save it in the varaible `I`\n",
        "\n",
        "remember your image name MUST be `sample.jpeg`.\n",
        "\n",
        "Make sure the height and the width of the image is **smaller than 1000 pixels**."
      ]
    },
    {
      "cell_type": "code",
      "metadata": {
        "nbgrader": {
          "grade": true,
          "grade_id": "cell-1607bc36e938751e",
          "locked": false,
          "points": 1,
          "schema_version": 3,
          "solution": true,
          "task": false
        },
        "id": "gU4sN_R5_hfo",
        "outputId": "1e2ac976-8506-4c66-be5d-75f8e648be72"
      },
      "source": [
        "I = None # Replace None with appropriate function call line\n",
        "\n",
        "\n",
        "# find the height and the width of the image\n",
        "H = None # should contain height\n",
        "W = None # should contain width\n",
        "print(\"Height is\", H)\n",
        "print(\"Width is\", W)\n",
        "\n",
        "### BEGIN SOLUTION\n",
        "\n",
        "### END SOLUTION"
      ],
      "execution_count": null,
      "outputs": [
        {
          "name": "stdout",
          "output_type": "stream",
          "text": [
            "Height is None\n",
            "Width is None\n"
          ]
        }
      ]
    },
    {
      "cell_type": "code",
      "source": [
        "#Take That Loaded Image Show All The Chanel of the image seperately\n",
        "plt.rcParams[\"figure.figsize\"] = (8, 2)\n",
        "for i in range(3):\n"
      ],
      "metadata": {
        "id": "4HuD5NCIXX_D"
      },
      "execution_count": null,
      "outputs": []
    },
    {
      "cell_type": "code",
      "metadata": {
        "nbgrader": {
          "grade": true,
          "grade_id": "cell-9b6a6fecbbe2f898",
          "locked": false,
          "points": 1,
          "schema_version": 3,
          "solution": true,
          "task": false
        },
        "id": "tc5UHLgZ_hfq"
      },
      "source": [
        "# Normalize the image so that the gray scales are between 0 and 1. Save it to I and display the image\n",
        "I = None\n",
        "\n",
        "### BEGIN SOLUTION\n",
        "\n",
        "### END SOLUTION"
      ],
      "execution_count": null,
      "outputs": []
    },
    {
      "cell_type": "code",
      "metadata": {
        "nbgrader": {
          "grade": true,
          "grade_id": "cell-1a4bfb4cf5093008",
          "locked": false,
          "points": 1,
          "schema_version": 3,
          "solution": true,
          "task": false
        },
        "id": "STNtWaX1_hfr"
      },
      "source": [
        "# Increase the brightness of the image without changing the contrast.\n",
        "# Save the resulting image in I_bright and display it.(use stretching addition)\n",
        "I_bright = None\n",
        "\n",
        "### BEGIN SOLUTION\n",
        "\n",
        "### END SOLUTION"
      ],
      "execution_count": null,
      "outputs": []
    },
    {
      "cell_type": "code",
      "metadata": {
        "nbgrader": {
          "grade": true,
          "grade_id": "cell-3f0cdc9caabca600",
          "locked": false,
          "points": 1,
          "schema_version": 3,
          "solution": true,
          "task": false
        },
        "id": "S6maHCxJ_hfs"
      },
      "source": [
        "# Decrease the brightness of the image without changing the contrast.\n",
        "# Save the resulting image in I_dark and display it.(use stretching Subtraction )\n",
        "I_dark = None\n",
        "\n",
        "### BEGIN SOLUTION\n",
        "\n",
        "### END SOLUTION"
      ],
      "execution_count": null,
      "outputs": []
    },
    {
      "cell_type": "code",
      "metadata": {
        "nbgrader": {
          "grade": true,
          "grade_id": "cell-cb0694c7cff2c8b8",
          "locked": false,
          "points": 2,
          "schema_version": 3,
          "solution": true,
          "task": false
        },
        "id": "2s9DaYK6_hfs"
      },
      "source": [
        "# Multiply the three channels of image I with three DIFFERENT numbers between 0.3 and 3\n",
        "# Save the resulting image in I_tint and display it.\n",
        "# The resulting image should have some color shift\n",
        "I_tint = None\n",
        "\n",
        "# HINT:\n",
        "# I_tint = np.zeros(I.shape)\n",
        "# I_tint[:, :, 0] =  ..... I[:, :, 0].....\n",
        "# ......\n",
        "\n",
        "### BEGIN SOLUTION\n",
        "\n",
        "### END SOLUTION"
      ],
      "execution_count": null,
      "outputs": []
    },
    {
      "cell_type": "code",
      "metadata": {
        "nbgrader": {
          "grade": true,
          "grade_id": "cell-b92ef82578edd1ca",
          "locked": false,
          "points": 1,
          "schema_version": 3,
          "solution": true,
          "task": false
        },
        "id": "MF54zsTT_hfs"
      },
      "source": [
        "# Convert the image into a grayscale image.\n",
        "# Save it to I_gray and display it (hint: https://scikit-image.org/docs/stable/auto_examples/color_exposure/plot_rgb_to_gray.html)\n",
        "I_gray = None\n",
        "\n",
        "### BEGIN SOLUTION\n",
        "\n",
        "### END SOLUTION"
      ],
      "execution_count": null,
      "outputs": []
    },
    {
      "cell_type": "code",
      "metadata": {
        "nbgrader": {
          "grade": true,
          "grade_id": "cell-39f9169d53f9fcf0",
          "locked": false,
          "points": 1,
          "schema_version": 3,
          "solution": true,
          "task": false
        },
        "id": "cTnMwwcX_hft"
      },
      "source": [
        "# Display the negative of the grayscale image\n",
        "\n",
        "### BEGIN SOLUTION\n",
        "\n",
        "### END SOLUTION"
      ],
      "execution_count": null,
      "outputs": []
    },
    {
      "cell_type": "code",
      "metadata": {
        "nbgrader": {
          "grade": true,
          "grade_id": "cell-a96de370b75a1aa6",
          "locked": false,
          "points": 5,
          "schema_version": 3,
          "solution": true,
          "task": false
        },
        "id": "88o1DyVf_hfu"
      },
      "source": [
        "# Complete the following function to perform Piecewise Linear Contrast stretching\n",
        "# That is, implement the map shown in Slide 17 of Lecture 3\n",
        "\n",
        "# Prototype: piecewise_contrast_stretch(I_gray, r1, r2, s1, s2)\n",
        "# Assuming both input and output images are normalized between 0 and 1\n",
        "\n",
        "def piecewise_contrast_stretch(I, r1, r2, s1, s2):\n",
        "    pass\n",
        "    # Write your code here\n",
        "    I_stretched = None # replace with appropriate code\n",
        "    return I_stretched\n",
        "    ### BEGIN SOLUTION\n",
        "\n",
        "    ### END SOLUTION\n",
        "\n"
      ],
      "execution_count": null,
      "outputs": []
    },
    {
      "cell_type": "code",
      "metadata": {
        "nbgrader": {
          "grade": true,
          "grade_id": "cell-a1ec064fedada857",
          "locked": false,
          "points": 2,
          "schema_version": 3,
          "solution": true,
          "task": false
        },
        "id": "flc_hCud_hfu"
      },
      "source": [
        "# To test your implementation, contrast strech the degraded image I_degrade\n",
        "r1 = None\n",
        "r2 = None\n",
        "s1 = None\n",
        "s2 = None\n",
        "I_stretched = piecewise_contrast_stretch(I_degraded, r1, r2, s1, s2)\n",
        "\n",
        "# Display the strtched image\n",
        "\n",
        "### BEGIN SOLUTION\n",
        "\n",
        "### END SOLUTION"
      ],
      "execution_count": null,
      "outputs": []
    }
  ]
}